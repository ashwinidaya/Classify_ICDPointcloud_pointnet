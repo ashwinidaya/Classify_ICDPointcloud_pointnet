{
  "nbformat": 4,
  "nbformat_minor": 0,
  "metadata": {
    "colab": {
      "provenance": [],
      "toc_visible": true,
      "authorship_tag": "ABX9TyP2fizXLALMndI8etbzYQso",
      "include_colab_link": true
    },
    "kernelspec": {
      "name": "python3",
      "display_name": "Python 3"
    },
    "accelerator": "GPU"
  },
  "cells": [
    {
      "cell_type": "markdown",
      "metadata": {
        "id": "view-in-github",
        "colab_type": "text"
      },
      "source": [
        "<a href=\"https://colab.research.google.com/github/ashwinidaya/Classify_ICDPointcloud_pointnet/blob/main/icd__hdf5_labelGenerated1.ipynb\" target=\"_parent\"><img src=\"https://colab.research.google.com/assets/colab-badge.svg\" alt=\"Open In Colab\"/></a>"
      ]
    },
    {
      "cell_type": "code",
      "metadata": {
        "id": "5lz52XrZ2CBG",
        "outputId": "fc111d04-bfed-4549-f33a-81144120383a",
        "colab": {
          "base_uri": "https://localhost:8080/",
          "height": 1000
        }
      },
      "source": [
        "!sudo apt-get install hdf5-tools hdfview"
      ],
      "execution_count": null,
      "outputs": [
        {
          "output_type": "stream",
          "text": [
            "Reading package lists... Done\n",
            "Building dependency tree       \n",
            "Reading state information... Done\n",
            "The following package was automatically installed and is no longer required:\n",
            "  libnvidia-common-430\n",
            "Use 'sudo apt autoremove' to remove it.\n",
            "The following additional packages will be installed:\n",
            "  java-wrappers libhdf4-0 libjgraph-java libjhdf4-java libjhdf4-jni\n",
            "  libjhdf5-java libjhdf5-jni libslf4j-java\n",
            "Suggested packages:\n",
            "  www-browser libhdf4-doc libhdf4-dev hdf4-tools libcommons-logging-java\n",
            "  liblog4j1.2-java\n",
            "The following NEW packages will be installed:\n",
            "  hdf5-tools hdfview java-wrappers libhdf4-0 libjgraph-java libjhdf4-java\n",
            "  libjhdf4-jni libjhdf5-java libjhdf5-jni libslf4j-java\n",
            "0 upgraded, 10 newly installed, 0 to remove and 7 not upgraded.\n",
            "Need to get 1,911 kB of archives.\n",
            "After this operation, 5,235 kB of additional disk space will be used.\n",
            "Get:1 http://archive.ubuntu.com/ubuntu bionic/universe amd64 hdf5-tools amd64 1.10.0-patch1+docs-4 [390 kB]\n",
            "Get:2 http://archive.ubuntu.com/ubuntu bionic/universe amd64 libjgraph-java all 5.12.4.2+dfsg-5 [188 kB]\n",
            "Get:3 http://archive.ubuntu.com/ubuntu bionic/universe amd64 libjhdf5-jni amd64 2.11.0+dfsg-3 [81.4 kB]\n",
            "Get:4 http://archive.ubuntu.com/ubuntu bionic/universe amd64 libjhdf5-java amd64 2.11.0+dfsg-3 [145 kB]\n",
            "Get:5 http://archive.ubuntu.com/ubuntu bionic/universe amd64 libhdf4-0 amd64 4.2.13-2 [301 kB]\n",
            "Get:6 http://archive.ubuntu.com/ubuntu bionic/universe amd64 libjhdf4-jni amd64 2.11.0+dfsg-3 [29.5 kB]\n",
            "Get:7 http://archive.ubuntu.com/ubuntu bionic/universe amd64 libjhdf4-java amd64 2.11.0+dfsg-3 [199 kB]\n",
            "Get:8 http://archive.ubuntu.com/ubuntu bionic/universe amd64 libslf4j-java all 1.7.25-3 [141 kB]\n",
            "Get:9 http://archive.ubuntu.com/ubuntu bionic/universe amd64 java-wrappers all 0.3 [9,560 B]\n",
            "Get:10 http://archive.ubuntu.com/ubuntu bionic/universe amd64 hdfview amd64 2.11.0+dfsg-3 [427 kB]\n",
            "Fetched 1,911 kB in 4s (531 kB/s)\n",
            "debconf: unable to initialize frontend: Dialog\n",
            "debconf: (No usable dialog-like program is installed, so the dialog based frontend cannot be used. at /usr/share/perl5/Debconf/FrontEnd/Dialog.pm line 76, <> line 10.)\n",
            "debconf: falling back to frontend: Readline\n",
            "debconf: unable to initialize frontend: Readline\n",
            "debconf: (This frontend requires a controlling tty.)\n",
            "debconf: falling back to frontend: Teletype\n",
            "dpkg-preconfigure: unable to re-open stdin: \n",
            "Selecting previously unselected package hdf5-tools.\n",
            "(Reading database ... 145674 files and directories currently installed.)\n",
            "Preparing to unpack .../0-hdf5-tools_1.10.0-patch1+docs-4_amd64.deb ...\n",
            "Unpacking hdf5-tools (1.10.0-patch1+docs-4) ...\n",
            "Selecting previously unselected package libjgraph-java.\n",
            "Preparing to unpack .../1-libjgraph-java_5.12.4.2+dfsg-5_all.deb ...\n",
            "Unpacking libjgraph-java (5.12.4.2+dfsg-5) ...\n",
            "Selecting previously unselected package libjhdf5-jni.\n",
            "Preparing to unpack .../2-libjhdf5-jni_2.11.0+dfsg-3_amd64.deb ...\n",
            "Unpacking libjhdf5-jni (2.11.0+dfsg-3) ...\n",
            "Selecting previously unselected package libjhdf5-java.\n",
            "Preparing to unpack .../3-libjhdf5-java_2.11.0+dfsg-3_amd64.deb ...\n",
            "Unpacking libjhdf5-java (2.11.0+dfsg-3) ...\n",
            "Selecting previously unselected package libhdf4-0.\n",
            "Preparing to unpack .../4-libhdf4-0_4.2.13-2_amd64.deb ...\n",
            "Unpacking libhdf4-0 (4.2.13-2) ...\n",
            "Selecting previously unselected package libjhdf4-jni.\n",
            "Preparing to unpack .../5-libjhdf4-jni_2.11.0+dfsg-3_amd64.deb ...\n",
            "Unpacking libjhdf4-jni (2.11.0+dfsg-3) ...\n",
            "Selecting previously unselected package libjhdf4-java.\n",
            "Preparing to unpack .../6-libjhdf4-java_2.11.0+dfsg-3_amd64.deb ...\n",
            "Unpacking libjhdf4-java (2.11.0+dfsg-3) ...\n",
            "Selecting previously unselected package libslf4j-java.\n",
            "Preparing to unpack .../7-libslf4j-java_1.7.25-3_all.deb ...\n",
            "Unpacking libslf4j-java (1.7.25-3) ...\n",
            "Selecting previously unselected package java-wrappers.\n",
            "Preparing to unpack .../8-java-wrappers_0.3_all.deb ...\n",
            "Unpacking java-wrappers (0.3) ...\n",
            "Selecting previously unselected package hdfview.\n",
            "Preparing to unpack .../9-hdfview_2.11.0+dfsg-3_amd64.deb ...\n",
            "Unpacking hdfview (2.11.0+dfsg-3) ...\n",
            "Setting up libslf4j-java (1.7.25-3) ...\n",
            "Setting up libjhdf5-jni (2.11.0+dfsg-3) ...\n",
            "Setting up libjhdf5-java (2.11.0+dfsg-3) ...\n",
            "Setting up java-wrappers (0.3) ...\n",
            "Setting up hdf5-tools (1.10.0-patch1+docs-4) ...\n",
            "Setting up libhdf4-0 (4.2.13-2) ...\n",
            "Setting up libjgraph-java (5.12.4.2+dfsg-5) ...\n",
            "Setting up libjhdf4-jni (2.11.0+dfsg-3) ...\n",
            "Setting up libjhdf4-java (2.11.0+dfsg-3) ...\n",
            "Setting up hdfview (2.11.0+dfsg-3) ...\n",
            "Processing triggers for libc-bin (2.27-3ubuntu1) ...\n",
            "Processing triggers for man-db (2.8.3-2ubuntu0.1) ...\n",
            "Processing triggers for shared-mime-info (1.9-2) ...\n",
            "Processing triggers for hicolor-icon-theme (0.17-2) ...\n",
            "Processing triggers for mime-support (3.60ubuntu1) ...\n"
          ],
          "name": "stdout"
        }
      ]
    },
    {
      "cell_type": "code",
      "metadata": {
        "id": "cPcUB6Y04P09",
        "outputId": "1f33f359-fb80-427f-8492-cff0eb04dd91",
        "colab": {
          "base_uri": "https://localhost:8080/",
          "height": 191
        }
      },
      "source": [
        "!pip install plyfile"
      ],
      "execution_count": null,
      "outputs": [
        {
          "output_type": "stream",
          "text": [
            "Collecting plyfile\n",
            "  Downloading https://files.pythonhosted.org/packages/4c/15/434d1d96f9a41fea56cb3290718123d651c56c4b7e53f0249acaf1bf34b6/plyfile-0.7.1.tar.gz\n",
            "Requirement already satisfied: numpy>=1.8 in /usr/local/lib/python3.6/dist-packages (from plyfile) (1.17.5)\n",
            "Building wheels for collected packages: plyfile\n",
            "  Building wheel for plyfile (setup.py) ... \u001b[?25l\u001b[?25hdone\n",
            "  Created wheel for plyfile: filename=plyfile-0.7.1-cp36-none-any.whl size=32827 sha256=ea087e71810cfc41add1468ccea8a5cca06d8122d5d867b4795cc38b24b13b61\n",
            "  Stored in directory: /root/.cache/pip/wheels/d6/0d/bf/6d603d81b98604d2ecfd5e99d4ab7c9af664fd5285ab82bbb0\n",
            "Successfully built plyfile\n",
            "Installing collected packages: plyfile\n",
            "Successfully installed plyfile-0.7.1\n"
          ],
          "name": "stdout"
        }
      ]
    },
    {
      "cell_type": "code",
      "metadata": {
        "id": "4cXiyXyK4emU",
        "outputId": "7cefce82-31fb-49ec-d1f3-eb53ee522883",
        "colab": {
          "base_uri": "https://localhost:8080/",
          "height": 208
        }
      },
      "source": [
        "!sudo apt-get install libhdf5-dev\n",
        "!pip install h5py"
      ],
      "execution_count": null,
      "outputs": [
        {
          "output_type": "stream",
          "text": [
            "\rReading package lists... 0%\r\rReading package lists... 0%\r\rReading package lists... 0%\r\rReading package lists... 7%\r\rReading package lists... 7%\r\rReading package lists... 7%\r\rReading package lists... 7%\r\rReading package lists... 65%\r\rReading package lists... 65%\r\rReading package lists... 66%\r\rReading package lists... 66%\r\rReading package lists... 73%\r\rReading package lists... 73%\r\rReading package lists... 73%\r\rReading package lists... 73%\r\rReading package lists... 75%\r\rReading package lists... 82%\r\rReading package lists... 82%\r\rReading package lists... 82%\r\rReading package lists... 82%\r\rReading package lists... 82%\r\rReading package lists... 82%\r\rReading package lists... 82%\r\rReading package lists... 82%\r\rReading package lists... 87%\r\rReading package lists... 87%\r\rReading package lists... 87%\r\rReading package lists... 87%\r\rReading package lists... 93%\r\rReading package lists... 93%\r\rReading package lists... 93%\r\rReading package lists... 93%\r\rReading package lists... 93%\r\rReading package lists... 93%\r\rReading package lists... 94%\r\rReading package lists... 94%\r\rReading package lists... 95%\r\rReading package lists... 95%\r\rReading package lists... 98%\r\rReading package lists... 98%\r\rReading package lists... 98%\r\rReading package lists... 98%\r\rReading package lists... Done\r\n",
            "\rBuilding dependency tree... 0%\r\rBuilding dependency tree... 0%\r\rBuilding dependency tree... 50%\r\rBuilding dependency tree... 50%\r\rBuilding dependency tree       \r\n",
            "\rReading state information... 0%\r\rReading state information... 0%\r\rReading state information... Done\r\n",
            "libhdf5-dev is already the newest version (1.10.0-patch1+docs-4).\n",
            "The following package was automatically installed and is no longer required:\n",
            "  libnvidia-common-430\n",
            "Use 'sudo apt autoremove' to remove it.\n",
            "0 upgraded, 0 newly installed, 0 to remove and 7 not upgraded.\n",
            "Requirement already satisfied: h5py in /usr/local/lib/python3.6/dist-packages (2.8.0)\n",
            "Requirement already satisfied: numpy>=1.7 in /usr/local/lib/python3.6/dist-packages (from h5py) (1.17.5)\n",
            "Requirement already satisfied: six in /usr/local/lib/python3.6/dist-packages (from h5py) (1.12.0)\n"
          ],
          "name": "stdout"
        }
      ]
    },
    {
      "cell_type": "code",
      "metadata": {
        "id": "OOI56cMQbDOC",
        "outputId": "ed86354d-5424-4f4a-a9cb-6c151e2e8fda",
        "colab": {
          "base_uri": "https://localhost:8080/",
          "height": 34
        }
      },
      "source": [
        "!pip install numpy"
      ],
      "execution_count": null,
      "outputs": [
        {
          "output_type": "stream",
          "text": [
            "Requirement already satisfied: numpy in /usr/local/lib/python3.6/dist-packages (1.17.5)\n"
          ],
          "name": "stdout"
        }
      ]
    },
    {
      "cell_type": "code",
      "metadata": {
        "id": "mlWCCn7pbLXl",
        "outputId": "619eefa9-058e-41cb-a995-b1a3121e14d2",
        "colab": {
          "base_uri": "https://localhost:8080/",
          "height": 243
        }
      },
      "source": [
        "!pip install IPython"
      ],
      "execution_count": null,
      "outputs": [
        {
          "output_type": "stream",
          "text": [
            "Requirement already satisfied: IPython in /usr/local/lib/python3.6/dist-packages (5.5.0)\n",
            "Requirement already satisfied: pygments in /usr/local/lib/python3.6/dist-packages (from IPython) (2.1.3)\n",
            "Requirement already satisfied: simplegeneric>0.8 in /usr/local/lib/python3.6/dist-packages (from IPython) (0.8.1)\n",
            "Requirement already satisfied: setuptools>=18.5 in /usr/local/lib/python3.6/dist-packages (from IPython) (42.0.2)\n",
            "Requirement already satisfied: decorator in /usr/local/lib/python3.6/dist-packages (from IPython) (4.4.1)\n",
            "Requirement already satisfied: traitlets>=4.2 in /usr/local/lib/python3.6/dist-packages (from IPython) (4.3.3)\n",
            "Requirement already satisfied: pickleshare in /usr/local/lib/python3.6/dist-packages (from IPython) (0.7.5)\n",
            "Requirement already satisfied: pexpect; sys_platform != \"win32\" in /usr/local/lib/python3.6/dist-packages (from IPython) (4.7.0)\n",
            "Requirement already satisfied: prompt-toolkit<2.0.0,>=1.0.4 in /usr/local/lib/python3.6/dist-packages (from IPython) (1.0.18)\n",
            "Requirement already satisfied: ipython-genutils in /usr/local/lib/python3.6/dist-packages (from traitlets>=4.2->IPython) (0.2.0)\n",
            "Requirement already satisfied: six in /usr/local/lib/python3.6/dist-packages (from traitlets>=4.2->IPython) (1.12.0)\n",
            "Requirement already satisfied: ptyprocess>=0.5 in /usr/local/lib/python3.6/dist-packages (from pexpect; sys_platform != \"win32\"->IPython) (0.6.0)\n",
            "Requirement already satisfied: wcwidth in /usr/local/lib/python3.6/dist-packages (from prompt-toolkit<2.0.0,>=1.0.4->IPython) (0.1.8)\n"
          ],
          "name": "stdout"
        }
      ]
    },
    {
      "cell_type": "code",
      "metadata": {
        "id": "iOZhWKp6Zi_g",
        "outputId": "40e081ea-ca9b-4666-a75f-436b1d9326e3",
        "colab": {
          "base_uri": "https://localhost:8080/",
          "height": 34
        }
      },
      "source": [
        "ls"
      ],
      "execution_count": null,
      "outputs": [
        {
          "output_type": "stream",
          "text": [
            "\u001b[0m\u001b[01;34mdata\u001b[0m/  \u001b[01;34msample_data\u001b[0m/\n"
          ],
          "name": "stdout"
        }
      ]
    },
    {
      "cell_type": "code",
      "metadata": {
        "id": "4yPJz_NdcqjV",
        "outputId": "b54dfb63-c8fa-4bde-e70d-55bb1205443e",
        "colab": {
          "base_uri": "https://localhost:8080/",
          "height": 139
        }
      },
      "source": [
        "!pip install Path"
      ],
      "execution_count": null,
      "outputs": [
        {
          "output_type": "stream",
          "text": [
            "Collecting Path\n",
            "  Downloading https://files.pythonhosted.org/packages/4d/24/5827e075036b5bb6b538f71bf39574d4a8024c5df51206cb9d6739e24d94/path-13.1.0-py3-none-any.whl\n",
            "Requirement already satisfied: importlib-metadata>=0.5; python_version < \"3.8\" in /usr/local/lib/python3.6/dist-packages (from Path) (1.4.0)\n",
            "Requirement already satisfied: zipp>=0.5 in /usr/local/lib/python3.6/dist-packages (from importlib-metadata>=0.5; python_version < \"3.8\"->Path) (1.0.0)\n",
            "Requirement already satisfied: more-itertools in /usr/local/lib/python3.6/dist-packages (from zipp>=0.5->importlib-metadata>=0.5; python_version < \"3.8\"->Path) (8.0.2)\n",
            "Installing collected packages: Path\n",
            "Successfully installed Path-13.1.0\n"
          ],
          "name": "stdout"
        }
      ]
    },
    {
      "cell_type": "code",
      "metadata": {
        "id": "h0fx1PCzaA5g"
      },
      "source": [
        "from plyfile import PlyData, PlyElement\n",
        "import numpy as np\n",
        "import os\n",
        "import h5py"
      ],
      "execution_count": null,
      "outputs": []
    },
    {
      "cell_type": "code",
      "metadata": {
        "id": "C-4TNWBJ4hmn",
        "outputId": "0f108a24-9fe1-4192-ddb7-cb421f85fd42",
        "colab": {
          "base_uri": "https://localhost:8080/",
          "height": 34
        }
      },
      "source": [
        "!python write_hdf5.py"
      ],
      "execution_count": null,
      "outputs": [
        {
          "output_type": "stream",
          "text": [
            "python3: can't open file 'write_hdf5.py': [Errno 2] No such file or directory\n"
          ],
          "name": "stdout"
        }
      ]
    },
    {
      "cell_type": "code",
      "metadata": {
        "id": "wAdmR-1n5nsu",
        "outputId": "b8a5cc4b-d5ab-4e65-e8aa-e25e76ff34cc",
        "colab": {
          "base_uri": "https://localhost:8080/",
          "height": 34
        }
      },
      "source": [
        "cd /content"
      ],
      "execution_count": null,
      "outputs": [
        {
          "output_type": "stream",
          "text": [
            "/content\n"
          ],
          "name": "stdout"
        }
      ]
    },
    {
      "cell_type": "code",
      "metadata": {
        "id": "88dUBT_i5-KW",
        "outputId": "5817ca2b-57ae-4603-e60e-1ce3d5d488cd",
        "colab": {
          "base_uri": "https://localhost:8080/",
          "height": 34
        }
      },
      "source": [
        "cd data"
      ],
      "execution_count": null,
      "outputs": [
        {
          "output_type": "stream",
          "text": [
            "/content/data\n"
          ],
          "name": "stdout"
        }
      ]
    },
    {
      "cell_type": "code",
      "metadata": {
        "id": "kxZVMi_J6JXA"
      },
      "source": [
        "!python write_hdf5.py"
      ],
      "execution_count": null,
      "outputs": []
    },
    {
      "cell_type": "code",
      "metadata": {
        "id": "IXbHdioA4rsH",
        "outputId": "729a603a-6245-4a6f-968f-d676fc7c71cf",
        "colab": {
          "base_uri": "https://localhost:8080/",
          "height": 920
        }
      },
      "source": [
        "from plyfile import PlyData, PlyElement\n",
        "import numpy as np\n",
        "import os\n",
        "import h5py\n",
        "h5_file = h5py.File('/content/data/hdf5_data/data_trainingLabel1.h5', 'r')\n",
        "f = h5_file\n",
        "print(f.items())\n",
        "data_h5 = f['data'][...]\n",
        "label_h5 = f['pid'][...]\n",
        "print (\"data and labels of point cloud data-------->\")\n",
        "print (\"<------------------------------------------>\")\n",
        "print (data_h5, label_h5)\n",
        "h5_file.close()"
      ],
      "execution_count": null,
      "outputs": [
        {
          "output_type": "stream",
          "text": [
            "ItemsViewHDF5(<HDF5 file \"data_trainingLabel1.h5\" (mode r)>)\n",
            "data and labels of point cloud data-------->\n",
            "<------------------------------------------>\n",
            "[[[129.03199768   0.50799948  30.95357895]\n",
            "  [129.03199768   0.          30.95357895]\n",
            "  [128.52400208   0.          30.95357895]\n",
            "  ...\n",
            "  [149.60598755  93.97999573  30.95357895]\n",
            "  [148.84399414  93.97999573  30.95357895]\n",
            "  [148.08200073  92.96399689  30.95357895]]\n",
            "\n",
            " [[  0.          84.5819931   10.15999889]\n",
            "  [126.74599457  84.5819931   10.15999889]\n",
            "  [126.74599457  83.31199646  10.15999889]\n",
            "  ...\n",
            "  [100.0759964   64.00799561  30.48000145]\n",
            "  [100.583992    64.00799561  30.48000145]\n",
            "  [101.09199524  64.00799561  30.48000145]]\n",
            "\n",
            " [[  0.         157.22598267  17.15007973]\n",
            "  [214.12197876 157.22598267  17.15007973]\n",
            "  [120.9039917  156.71798706  17.15007973]\n",
            "  ...\n",
            "  [115.31599426 140.96998596  17.15007973]\n",
            "  [115.56999207 140.96998596  51.4502449 ]\n",
            "  [115.8239975  140.96998596  17.15007973]]\n",
            "\n",
            " ...\n",
            "\n",
            " [[  0.         110.74398804  19.38528061]\n",
            "  [ 80.51799774 110.74398804  19.38528061]\n",
            "  [  0.         109.47398376  19.38528061]\n",
            "  ...\n",
            "  [ 14.47799969  83.31199646  19.38528061]\n",
            "  [ 19.04999924  83.31199646  19.38528061]\n",
            "  [ 19.30399895  83.31199646   6.46175957]]\n",
            "\n",
            " [[  0.          70.35800171  11.09472084]\n",
            "  [ 45.97399902  70.35800171  11.09472084]\n",
            "  [  0.          68.58000183  11.09472084]\n",
            "  ...\n",
            "  [ 20.82799911  50.0379982    3.6982398 ]\n",
            "  [ 21.08199883  50.0379982   11.09472084]\n",
            "  [ 21.33599854  50.0379982    3.6982398 ]]\n",
            "\n",
            " [[  0.         126.49198914  20.29968071]\n",
            "  [ 16.0019989  126.49198914  20.29968071]\n",
            "  [ 16.25599861 126.23799133  20.29968071]\n",
            "  ...\n",
            "  [ 34.29000092  93.47199249  20.29968071]\n",
            "  [ 34.54399872  93.47199249   6.7665596 ]\n",
            "  [ 34.79800034  93.47199249  20.29968071]]] [3 7 6 ... 4 8 6]\n"
          ],
          "name": "stdout"
        }
      ]
    },
    {
      "cell_type": "code",
      "metadata": {
        "id": "pFEotVHz6NET",
        "colab": {
          "base_uri": "https://localhost:8080/",
          "height": 34
        },
        "outputId": "06503395-e387-48cb-fb12-e2f6eac8c550"
      },
      "source": [
        "\n",
        "f = h5py.File(\"/content/data/hdf5_data/data_trainingLabel1.h5\")\n",
        "list(f)"
      ],
      "execution_count": null,
      "outputs": [
        {
          "output_type": "execute_result",
          "data": {
            "text/plain": [
              "['data', 'pid']"
            ]
          },
          "metadata": {
            "tags": []
          },
          "execution_count": 15
        }
      ]
    },
    {
      "cell_type": "code",
      "metadata": {
        "id": "sQGwxXhBViXc"
      },
      "source": [
        "!python write_hdf5_data_label.py"
      ],
      "execution_count": null,
      "outputs": []
    },
    {
      "cell_type": "code",
      "metadata": {
        "id": "Xhdiih3iW1AZ",
        "colab": {
          "base_uri": "https://localhost:8080/",
          "height": 34
        },
        "outputId": "12c34dd3-4de9-4d21-c625-6393f05489c5"
      },
      "source": [
        "f = h5py.File(\"/content/data/hdf5_data/data_trainingLabel2.h5\")\n",
        "list(f)"
      ],
      "execution_count": null,
      "outputs": [
        {
          "output_type": "execute_result",
          "data": {
            "text/plain": [
              "['data', 'label']"
            ]
          },
          "metadata": {
            "tags": []
          },
          "execution_count": 25
        }
      ]
    },
    {
      "cell_type": "code",
      "metadata": {
        "id": "xgkrLnJM921c",
        "colab": {
          "base_uri": "https://localhost:8080/",
          "height": 990
        },
        "outputId": "2fdeb982-ba02-425f-fa69-16dd4edf963b"
      },
      "source": [
        "#modelnetdataset hdf5 file pointnet\n",
        "h5_file1 = h5py.File('/content/data/hdf5_data/ply_data_test0.h5', 'r')\n",
        "f1 = h5_file1\n",
        "print(f1.items())\n",
        "data_h5 = f1['data'][...]\n",
        "label_h5 = f1['label'][...]\n",
        "print (data_h5, label_h5)\n",
        "h5_file1.close()\n",
        "\n"
      ],
      "execution_count": null,
      "outputs": [
        {
          "output_type": "stream",
          "text": [
            "ItemsViewHDF5(<HDF5 file \"ply_data_test0.h5\" (mode r)>)\n",
            "[[[ 7.23155811e-02  7.90050387e-01 -1.31832689e-01]\n",
            "  [-4.31412429e-01 -6.81382954e-01 -2.11278662e-01]\n",
            "  [ 4.14364249e-01 -4.39900279e-01 -1.89980879e-01]\n",
            "  ...\n",
            "  [ 3.04637730e-01 -1.46631151e-01 -3.26471590e-02]\n",
            "  [ 2.59602308e-01 -8.76633584e-01 -1.25613883e-01]\n",
            "  [ 2.72864729e-01  5.62073030e-02 -7.41542578e-02]]\n",
            "\n",
            " [[ 2.21597191e-04  4.10960346e-01  8.60561490e-01]\n",
            "  [ 9.24113691e-02  9.90411919e-03  2.26811022e-01]\n",
            "  [-1.88553140e-01 -4.25489545e-02  4.47571091e-02]\n",
            "  ...\n",
            "  [-3.09268236e-01 -3.78694274e-02 -1.07925452e-01]\n",
            "  [ 1.56596541e-01 -2.03937069e-02 -1.64598152e-01]\n",
            "  [ 1.15681954e-01 -1.36326566e-01 -1.13515623e-01]]\n",
            "\n",
            " [[ 3.91751118e-02  1.40630186e-01  7.11435497e-01]\n",
            "  [-4.49606299e-01  8.48013721e-03 -4.49488103e-01]\n",
            "  [ 5.63381433e-01 -3.98830138e-02 -6.69193923e-01]\n",
            "  ...\n",
            "  [ 1.70331642e-01  6.97731599e-02 -7.99020052e-01]\n",
            "  [-1.85376450e-01  1.69642046e-02  9.05939266e-02]\n",
            "  [ 1.98819935e-01  1.94997966e-01  5.69014847e-01]]\n",
            "\n",
            " ...\n",
            "\n",
            " [[ 3.21625948e-01  2.76381671e-01 -6.87874332e-02]\n",
            "  [-6.36543274e-01 -3.54641974e-01  1.94211900e-01]\n",
            "  [ 1.19146660e-01  3.99301171e-01  7.48459622e-02]\n",
            "  ...\n",
            "  [-7.25483224e-02 -8.83034989e-02 -2.46551812e-01]\n",
            "  [ 9.13224593e-02  1.73407921e-03  1.09389983e-01]\n",
            "  [-1.04395300e-01 -1.48808464e-01 -2.46551812e-01]]\n",
            "\n",
            " [[ 8.84649530e-02 -2.21422747e-01  6.98611364e-02]\n",
            "  [ 7.67394006e-02  9.88227502e-03 -1.42569868e-02]\n",
            "  [-1.06245070e-03  9.57638681e-01 -1.34358294e-02]\n",
            "  ...\n",
            "  [-3.08180861e-02 -6.49677098e-01 -6.97826073e-02]\n",
            "  [ 6.87240511e-02 -5.16806066e-01 -2.04406939e-02]\n",
            "  [-9.05665085e-02 -6.57578781e-02 -2.02672705e-01]]\n",
            "\n",
            " [[ 5.67156151e-02 -4.80922133e-01  1.03827894e-01]\n",
            "  [-8.89949426e-02  6.14168704e-01 -1.18753836e-01]\n",
            "  [-1.36869565e-01  1.37641743e-01  4.58696745e-02]\n",
            "  ...\n",
            "  [-6.54736608e-02 -4.60638136e-01  1.89053982e-01]\n",
            "  [-1.27962139e-02 -7.65624166e-01 -2.08853096e-01]\n",
            "  [ 8.15209374e-02  4.52424824e-01  1.62307173e-01]]] [[ 4]\n",
            " [ 0]\n",
            " [ 2]\n",
            " ...\n",
            " [21]\n",
            " [26]\n",
            " [24]]\n"
          ],
          "name": "stdout"
        }
      ]
    },
    {
      "cell_type": "code",
      "metadata": {
        "id": "LyJjDvjHivqW",
        "colab": {
          "base_uri": "https://localhost:8080/",
          "height": 34
        },
        "outputId": "c0d882fc-77b6-4e5c-af62-42023a997066"
      },
      "source": [
        "f = h5py.File(\"/content/data/hdf5_data/ply_data_train1.h5\")\n",
        "list(f)"
      ],
      "execution_count": null,
      "outputs": [
        {
          "output_type": "execute_result",
          "data": {
            "text/plain": [
              "['data', 'faceId', 'label', 'normal']"
            ]
          },
          "metadata": {
            "tags": []
          },
          "execution_count": 36
        }
      ]
    },
    {
      "cell_type": "code",
      "metadata": {
        "id": "p_LlvrjX-W7H",
        "colab": {
          "base_uri": "https://localhost:8080/",
          "height": 34
        },
        "outputId": "809e96e2-ac16-4e5b-ed56-bf8d6be9a89c"
      },
      "source": [
        "#plane detection chair table dataset\n",
        "f = h5py.File(\"/content/data/hdf5_data/data_testing_planeDetectiondata.h5\")\n",
        "list(f)"
      ],
      "execution_count": null,
      "outputs": [
        {
          "output_type": "execute_result",
          "data": {
            "text/plain": [
              "['data', 'pid']"
            ]
          },
          "metadata": {
            "tags": []
          },
          "execution_count": 37
        }
      ]
    },
    {
      "cell_type": "code",
      "metadata": {
        "id": "C15ZGBPS-aTb",
        "colab": {
          "base_uri": "https://localhost:8080/",
          "height": 990
        },
        "outputId": "2cbca5cf-6ed3-466a-df45-311d510dfa27"
      },
      "source": [
        "#modelnetdataset hdf5 file plane detection chair and table data and label with list of array list\n",
        "h5_file2 = h5py.File('/content/data/hdf5_data/data_testing_planeDetectiondata.h5', 'r')\n",
        "f2 = h5_file2\n",
        "print(f2.items())\n",
        "data_h5 = f2['data'][...]\n",
        "label_h5 = f2['pid'][...]\n",
        "print (data_h5, label_h5)\n",
        "h5_file2.close()\n"
      ],
      "execution_count": null,
      "outputs": [
        {
          "output_type": "stream",
          "text": [
            "ItemsViewHDF5(<HDF5 file \"data_testing_planeDetectiondata.h5\" (mode r+)>)\n",
            "[[[ 2.33469993e-01  2.02869996e-01 -2.20960006e-01]\n",
            "  [-6.01399988e-02  2.06340000e-01  3.62000009e-03]\n",
            "  [ 2.92340010e-01  1.96209997e-01 -1.16900001e-02]\n",
            "  ...\n",
            "  [-2.83380002e-01  2.06340000e-01 -3.99199985e-02]\n",
            "  [ 1.80260003e-01 -1.09389998e-01 -2.34640002e-01]\n",
            "  [-3.73499990e-02  2.05689996e-01  2.40199998e-01]]\n",
            "\n",
            " [[-1.79780006e-01 -9.71700028e-02  1.33420005e-01]\n",
            "  [ 1.55959994e-01 -1.73859999e-01 -1.48599997e-01]\n",
            "  [-1.64759994e-01  8.79599974e-02  1.84839994e-01]\n",
            "  ...\n",
            "  [-1.31709993e-01  2.09270000e-01  1.84839994e-01]\n",
            "  [-7.91599974e-02 -6.12399988e-02 -8.93199965e-02]\n",
            "  [ 1.15440004e-01 -6.22599982e-02  1.60540000e-01]]\n",
            "\n",
            " [[-1.28240004e-01  1.33640006e-01  2.64169991e-01]\n",
            "  [-1.65999997e-02  1.43130004e-01 -2.84660012e-01]\n",
            "  [ 2.98999995e-03  1.43130004e-01  6.39299974e-02]\n",
            "  ...\n",
            "  [ 1.86800007e-02  1.43130004e-01 -2.00299993e-02]\n",
            "  [-1.00680001e-01  1.43130004e-01  1.66040003e-01]\n",
            "  [-1.20099999e-01  1.43130004e-01 -2.20890000e-01]]\n",
            "\n",
            " ...\n",
            "\n",
            " [[ 1.81750000e-01  1.56450003e-01  1.73069999e-01]\n",
            "  [-3.86000006e-03  1.79629996e-01  8.74100029e-02]\n",
            "  [-5.55699989e-02  1.79629996e-01 -1.45669997e-01]\n",
            "  ...\n",
            "  [ 1.56450003e-01  1.44989997e-01 -2.63559997e-01]\n",
            "  [-8.70999973e-03  1.79629996e-01 -2.89079994e-01]\n",
            "  [-2.20190004e-01  1.72020003e-01  3.23540002e-01]]\n",
            "\n",
            " [[-5.45299985e-02  1.36230007e-01 -3.77660006e-01]\n",
            "  [-9.90300030e-02  1.34120002e-01  3.82809997e-01]\n",
            "  [ 1.30850002e-01  1.42220005e-01  4.02819991e-01]\n",
            "  ...\n",
            "  [-1.00809999e-01  2.04710007e-01 -3.68399993e-02]\n",
            "  [-1.12989999e-01  2.04710007e-01  1.00359999e-01]\n",
            "  [ 1.33609995e-01  1.63599998e-02  4.07539994e-01]]\n",
            "\n",
            " [[-3.27900015e-02  4.39000018e-02 -5.99999985e-05]\n",
            "  [-1.62750006e-01 -9.70000029e-03 -2.09840000e-01]\n",
            "  [-1.53540000e-01 -1.13779999e-01  2.07090005e-01]\n",
            "  ...\n",
            "  [ 2.58080006e-01 -1.08740002e-01  2.23910004e-01]\n",
            "  [-2.41270006e-01 -3.34960014e-01  2.23910004e-01]\n",
            "  [-2.30269998e-01 -2.12249994e-01  2.07289994e-01]]] [[0 1 0 ... 1 0 1]\n",
            " [0 0 0 ... 0 1 1]\n",
            " [0 1 1 ... 1 1 1]\n",
            " ...\n",
            " [0 1 1 ... 0 1 0]\n",
            " [0 0 0 ... 1 1 0]\n",
            " [0 0 0 ... 0 0 0]]\n"
          ],
          "name": "stdout"
        }
      ]
    },
    {
      "cell_type": "code",
      "metadata": {
        "id": "ALISASbJAH2O"
      },
      "source": [
        "!pip install numpy"
      ],
      "execution_count": null,
      "outputs": []
    },
    {
      "cell_type": "code",
      "metadata": {
        "id": "EkZlqNNuBsnO"
      },
      "source": [
        "import h5py\n",
        "import numpy\n",
        "with h5py.File('/content/sample_data/data/hdf5_data/data_training.h5', 'r') as f:\n",
        "   print(f)"
      ],
      "execution_count": null,
      "outputs": []
    },
    {
      "cell_type": "code",
      "metadata": {
        "id": "YCxhQc-uBxuw"
      },
      "source": [
        "!pip3 install pyntcloud"
      ],
      "execution_count": null,
      "outputs": []
    },
    {
      "cell_type": "code",
      "metadata": {
        "id": "fHPFNP-3HMb0"
      },
      "source": [
        "from pyntcloud import PyntCloud"
      ],
      "execution_count": null,
      "outputs": []
    },
    {
      "cell_type": "code",
      "metadata": {
        "id": "ydJkBqEeHSYN"
      },
      "source": [
        "bharath = PyntCloud.from_file(\"/content/data/ply/b1.ply\")"
      ],
      "execution_count": null,
      "outputs": []
    },
    {
      "cell_type": "code",
      "metadata": {
        "id": "bywtzRaLHUrl"
      },
      "source": [
        "bharath"
      ],
      "execution_count": null,
      "outputs": []
    },
    {
      "cell_type": "code",
      "metadata": {
        "id": "VHn9fksLHe4b"
      },
      "source": [
        "from pyntcloud import PyntCloud\n",
        "\n",
        "cloud = PyntCloud.from_file(\"./ply/y1.ply\")\n",
        "\n",
        "cloud.points"
      ],
      "execution_count": null,
      "outputs": []
    },
    {
      "cell_type": "code",
      "metadata": {
        "id": "w9QRnWlxHma9"
      },
      "source": [
        "!pip install plyfile"
      ],
      "execution_count": null,
      "outputs": []
    },
    {
      "cell_type": "code",
      "metadata": {
        "id": "U6ucN-1EHsjd"
      },
      "source": [
        "!pip install numpy"
      ],
      "execution_count": null,
      "outputs": []
    },
    {
      "cell_type": "code",
      "metadata": {
        "id": "amq_EUXvHxAQ"
      },
      "source": [
        "from plyfile import PlyData, PlyElement\n",
        "import numpy as np\n",
        "import os"
      ],
      "execution_count": null,
      "outputs": []
    },
    {
      "cell_type": "code",
      "metadata": {
        "id": "1AVYROodH0bX"
      },
      "source": [
        "pip install IPython"
      ],
      "execution_count": null,
      "outputs": []
    },
    {
      "cell_type": "code",
      "metadata": {
        "id": "SjBOlv9MH2-l"
      },
      "source": [
        "plydata = PlyData.read('/content/data/ply/b1.ply')\n",
        "plydata"
      ],
      "execution_count": null,
      "outputs": []
    },
    {
      "cell_type": "code",
      "metadata": {
        "id": "gBsIX-fRH7A8"
      },
      "source": [
        "plydata = PlyData.read(\"/content/data/ply/b1.ply\")\n",
        "data = np.asarray(plydata['vertex'][:])\n",
        "print(data)"
      ],
      "execution_count": null,
      "outputs": []
    },
    {
      "cell_type": "code",
      "metadata": {
        "id": "AwHVWi76IHxj"
      },
      "source": [
        "for d in plydata[\"vertex\"][:]:\n",
        "\n",
        "  print(plydata['vertex'][:])"
      ],
      "execution_count": null,
      "outputs": []
    },
    {
      "cell_type": "code",
      "metadata": {
        "id": "bEuyioYiIMEJ"
      },
      "source": [
        "pip install Path"
      ],
      "execution_count": null,
      "outputs": []
    },
    {
      "cell_type": "code",
      "metadata": {
        "id": "9QLY-nS9IYQz"
      },
      "source": [
        "!sudo apt-get install libhdf5-dev\n",
        "!pip install h5py"
      ],
      "execution_count": null,
      "outputs": []
    },
    {
      "cell_type": "code",
      "metadata": {
        "id": "0-pMxRZKIhQ9"
      },
      "source": [
        "import h5py"
      ],
      "execution_count": null,
      "outputs": []
    },
    {
      "cell_type": "code",
      "metadata": {
        "id": "NAcRg4oaIj_P"
      },
      "source": [
        "f = h5py.File('/content/data/hdf5_data/data_testing.h5', 'r')\n",
        "f"
      ],
      "execution_count": null,
      "outputs": []
    },
    {
      "cell_type": "code",
      "metadata": {
        "id": "k4Wyp3-pIrgg"
      },
      "source": [
        "list(f)"
      ],
      "execution_count": null,
      "outputs": []
    },
    {
      "cell_type": "code",
      "metadata": {
        "id": "7Asdj1P6I3_C"
      },
      "source": [
        "#icd dataset hdf5 file data with label:IMPORTANT\n",
        "h5_file = h5py.File('/content/data/hdf5_data/data_testing.h5', 'r')\n",
        "f = h5_file\n",
        "print(f.items())\n",
        "data_h5 = f['data'][...]\n",
        "label_h5 = f['pid'][...]\n",
        "print (data_h5, label_h5)\n",
        "h5_file.close()"
      ],
      "execution_count": null,
      "outputs": []
    },
    {
      "cell_type": "code",
      "metadata": {
        "id": "iwklQx9gJJYD"
      },
      "source": [
        "#modelnet40 dataset hdf5 file data with label:IMPORTANT\n",
        "h5_file = h5py.File('/content/data/hdf5_data/ply_data_train1.h5', 'r')\n",
        "f = h5_file\n",
        "print(f.items())\n",
        "data_h5 = f['data'][...]\n",
        "label_h5 = f['label'][...]\n",
        "print (data_h5, label_h5)\n",
        "h5_file.close()"
      ],
      "execution_count": null,
      "outputs": []
    },
    {
      "cell_type": "code",
      "metadata": {
        "id": "OHlSf4BVZXjL"
      },
      "source": [
        "#icd dataset hdf5 file data with label same as modelnet40 dataset:IMPORTANT\n",
        "h5_file = h5py.File('/content/data/hdf5_data/data_testing.h5', 'r')\n",
        "f = h5_file\n",
        "print(f.items())\n"
      ],
      "execution_count": null,
      "outputs": []
    },
    {
      "cell_type": "code",
      "metadata": {
        "id": "Ax0umVywZ903"
      },
      "source": [
        "data_h5 = f['data'][...]\n",
        "label_h5 = sum(f['pid'][...])\n",
        "print (data_h5, label_h5)\n",
        "h5_file.close()"
      ],
      "execution_count": null,
      "outputs": []
    },
    {
      "cell_type": "code",
      "metadata": {
        "id": "6auQDJ3kbfzB"
      },
      "source": [
        "ls"
      ],
      "execution_count": null,
      "outputs": []
    },
    {
      "cell_type": "code",
      "metadata": {
        "id": "oeyVxrThcOWc"
      },
      "source": [
        "cd ./"
      ],
      "execution_count": null,
      "outputs": []
    },
    {
      "cell_type": "code",
      "metadata": {
        "id": "EXWyh7YfcQQZ"
      },
      "source": [
        "ls"
      ],
      "execution_count": null,
      "outputs": []
    },
    {
      "cell_type": "code",
      "metadata": {
        "id": "p_5ApMLpcRRy"
      },
      "source": [
        "cd ../"
      ],
      "execution_count": null,
      "outputs": []
    },
    {
      "cell_type": "code",
      "metadata": {
        "id": "CEta9rFUcStL"
      },
      "source": [
        "ls"
      ],
      "execution_count": null,
      "outputs": []
    },
    {
      "cell_type": "code",
      "metadata": {
        "id": "04ZodtEbcTiQ"
      },
      "source": [
        "!python write_hdf5.py"
      ],
      "execution_count": null,
      "outputs": []
    },
    {
      "cell_type": "code",
      "metadata": {
        "id": "VOjdLIYpcUys"
      },
      "source": [
        "#ICD dataset hdf5 file data with label:IMPORTANT------->label single value----> [3 7 6 ... 4 8 6]\n",
        "\n",
        "h5_file = h5py.File('/content/data/hdf5_data/data_trainingLabel.h5', 'r')\n",
        "f = h5_file\n",
        "print(f.items())\n",
        "data_h5 = f['data'][...]\n",
        "label_h5 = f['pid'][...]\n",
        "print (\"data and labels of point cloud data-------->\")\n",
        "print (\"<------------------------------------------>\")\n",
        "print (data_h5, label_h5)\n",
        "h5_file.close()"
      ],
      "execution_count": null,
      "outputs": []
    },
    {
      "cell_type": "code",
      "metadata": {
        "id": "mc7REehncj1W"
      },
      "source": [
        "#write_hdf5.py\n",
        "import h5py\n",
        "import numpy as np\n",
        "from plyfile import PlyData, PlyElement\n",
        "\n",
        "filenames = [line.rstrip() for line in open(\"filelist\", 'r')]\n",
        "\n",
        "#f = h5py.File(\"./hdf5_data/data_training.h5\", 'w')\n",
        "f = h5py.File(\"/content/data/hdf5_data/data_trainingLabel.h5\", 'w')\n",
        "\n",
        "a_data = np.zeros((len(filenames), 2048, 3))\n",
        "a_pid = np.zeros((len(filenames), 2048), dtype = np.uint8)\n",
        "\n",
        "for i in range(0, len(filenames)):\n",
        "\tplydata = PlyData.read(\"/content/data/ply/\" + filenames[i] + \".ply\")\n",
        "\tpiddata = [line.rstrip() for line in open(\"/content/data/points_label/\" + filenames[i] + \".seg\", 'r')]\n",
        "\tfor j in range(0, 2048):\n",
        "\t\ta_data[i, j] = [plydata['vertex']['x'][j], plydata['vertex']['y'][j], plydata['vertex']['z'][j]]\n",
        "\t\ta_pid[i,j] = piddata[j]\n",
        "\n",
        "data = f.create_dataset(\"data\", data = a_data)\n",
        "pid = f.create_dataset(\"pid\", data = sum(a_pid))\n"
      ],
      "execution_count": null,
      "outputs": []
    },
    {
      "cell_type": "code",
      "metadata": {
        "id": "eRiR4Q5Pfyf3"
      },
      "source": [
        "#Only label printed\n",
        "#ICD dataset hdf5 file data with label:IMPORTANT------->label single value----> [3 7 6 ... 4 8 6]\n",
        "\n",
        "h5_file = h5py.File('/content/data/hdf5_data/data_trainingLabel.h5', 'r')\n",
        "f = h5_file\n",
        "print(f.items())\n",
        "#data_h5 = f['data'][...]\n",
        "label_h5 = f['pid'][...]\n",
        "print (\"labels of point cloud data-------->\")\n",
        "print(label_h5)\n",
        "h5_file.close()"
      ],
      "execution_count": null,
      "outputs": []
    },
    {
      "cell_type": "code",
      "metadata": {
        "id": "UjkJlSMBf16F"
      },
      "source": [],
      "execution_count": null,
      "outputs": []
    }
  ]
}